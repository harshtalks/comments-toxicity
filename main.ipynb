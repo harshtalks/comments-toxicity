{
 "cells": [
  {
   "cell_type": "markdown",
   "source": [],
   "metadata": {
    "collapsed": false,
    "pycharm": {
     "name": "#%% md\n"
    }
   }
  },
  {
   "cell_type": "markdown",
   "source": [
    "# CBS3006\n",
    "## Team Members"
   ],
   "metadata": {
    "collapsed": false,
    "pycharm": {
     "name": "#%% md\n"
    }
   }
  },
  {
   "cell_type": "markdown",
   "source": [
    "- ### Harsh Pareek\n",
    "- ### Savyasachi Hemant Shriram\n",
    "- ### Ana Singh"
   ],
   "metadata": {
    "collapsed": false,
    "pycharm": {
     "name": "#%% md\n"
    }
   }
  },
  {
   "cell_type": "markdown",
   "source": [
    "# Sentimental Analysis: Comment Hate Speech"
   ],
   "metadata": {
    "collapsed": false,
    "pycharm": {
     "name": "#%% md\n"
    }
   }
  },
  {
   "cell_type": "markdown",
   "source": [
    "### Dataset\n",
    "The comments in this dataset come from an archive of the Civil Comments platform, a commenting plugin for independent news sites. These public comments were created from 2015 - 2017 and appeared on approximately 50 English-language news sites across the world. When Civil Comments shut down in 2017, they chose to make the public comments available in a lasting open archive to enable future research. The original data, published on figshare, includes the public comment text, some associated metadata such as article IDs, timestamps and commenter-generated ` civility ` labels, but does not include user ids. Jigsaw extended this dataset by adding additional labels for toxicity, identity mentions, as well as covert offensiveness. This data set is an exact replica of the data released for the Jigsaw Unintended Bias in Toxicity Classification Kaggle challenge. This dataset is released under CC0, as is the underlying comment text."
   ],
   "metadata": {
    "collapsed": false,
    "pycharm": {
     "name": "#%% md\n"
    }
   }
  },
  {
   "cell_type": "markdown",
   "source": [
    "# Importing Initial Libraries"
   ],
   "metadata": {
    "collapsed": false,
    "pycharm": {
     "name": "#%% md\n"
    }
   }
  },
  {
   "cell_type": "code",
   "execution_count": 1,
   "outputs": [],
   "source": [
    "import numpy as np\n",
    "import pandas as pd\n",
    "import matplotlib as mpl\n",
    "import matplotlib.pyplot as plt\n",
    "import seaborn as sns\n",
    "import warnings\n",
    "warnings.filterwarnings(action='once')"
   ],
   "metadata": {
    "collapsed": false,
    "pycharm": {
     "name": "#%%\n"
    }
   }
  },
  {
   "cell_type": "markdown",
   "source": [
    "#### Matplotlib Configuration"
   ],
   "metadata": {
    "collapsed": false,
    "pycharm": {
     "name": "#%% md\n"
    }
   }
  },
  {
   "cell_type": "code",
   "execution_count": 2,
   "outputs": [],
   "source": [
    "large = 22; med = 16; small = 12\n",
    "params = {'axes.titlesize': large,\n",
    "          'legend.fontsize': med,\n",
    "          'figure.figsize': (16, 10),\n",
    "          'axes.labelsize': med,\n",
    "          'axes.titlesize': med,\n",
    "          'xtick.labelsize': med,\n",
    "          'ytick.labelsize': med,\n",
    "          'figure.titlesize': large}\n",
    "plt.rcParams.update(params)\n",
    "plt.style.use('seaborn-whitegrid')\n",
    "sns.set_style(\"white\")\n",
    "%matplotlib inline"
   ],
   "metadata": {
    "collapsed": false,
    "pycharm": {
     "name": "#%%\n"
    }
   }
  },
  {
   "cell_type": "markdown",
   "source": [
    "# Importing Dataset"
   ],
   "metadata": {
    "collapsed": false,
    "pycharm": {
     "name": "#%% md\n"
    }
   }
  },
  {
   "cell_type": "markdown",
   "source": [
    "Dataset has been downloaded from the kaggle website."
   ],
   "metadata": {
    "collapsed": false
   }
  },
  {
   "cell_type": "code",
   "execution_count": 3,
   "outputs": [],
   "source": [
    "data = pd.read_csv(\"./data.csv\")"
   ],
   "metadata": {
    "collapsed": false,
    "pycharm": {
     "name": "#%%\n"
    }
   }
  },
  {
   "cell_type": "code",
   "execution_count": 4,
   "outputs": [
    {
     "name": "stdout",
     "output_type": "stream",
     "text": [
      "----- Printing Dataset Info -----\n",
      "<class 'pandas.core.frame.DataFrame'>\n",
      "RangeIndex: 1999516 entries, 0 to 1999515\n",
      "Data columns (total 46 columns):\n",
      " #   Column                               Dtype  \n",
      "---  ------                               -----  \n",
      " 0   id                                   int64  \n",
      " 1   comment_text                         object \n",
      " 2   split                                object \n",
      " 3   created_date                         object \n",
      " 4   publication_id                       int64  \n",
      " 5   parent_id                            float64\n",
      " 6   article_id                           int64  \n",
      " 7   rating                               object \n",
      " 8   funny                                int64  \n",
      " 9   wow                                  int64  \n",
      " 10  sad                                  int64  \n",
      " 11  likes                                int64  \n",
      " 12  disagree                             int64  \n",
      " 13  toxicity                             float64\n",
      " 14  severe_toxicity                      float64\n",
      " 15  obscene                              float64\n",
      " 16  sexual_explicit                      float64\n",
      " 17  identity_attack                      float64\n",
      " 18  insult                               float64\n",
      " 19  threat                               float64\n",
      " 20  male                                 float64\n",
      " 21  female                               float64\n",
      " 22  transgender                          float64\n",
      " 23  other_gender                         float64\n",
      " 24  heterosexual                         float64\n",
      " 25  homosexual_gay_or_lesbian            float64\n",
      " 26  bisexual                             float64\n",
      " 27  other_sexual_orientation             float64\n",
      " 28  christian                            float64\n",
      " 29  jewish                               float64\n",
      " 30  muslim                               float64\n",
      " 31  hindu                                float64\n",
      " 32  buddhist                             float64\n",
      " 33  atheist                              float64\n",
      " 34  other_religion                       float64\n",
      " 35  black                                float64\n",
      " 36  white                                float64\n",
      " 37  asian                                float64\n",
      " 38  latino                               float64\n",
      " 39  other_race_or_ethnicity              float64\n",
      " 40  physical_disability                  float64\n",
      " 41  intellectual_or_learning_disability  float64\n",
      " 42  psychiatric_or_mental_illness        float64\n",
      " 43  other_disability                     float64\n",
      " 44  identity_annotator_count             int64  \n",
      " 45  toxicity_annotator_count             int64  \n",
      "dtypes: float64(32), int64(10), object(4)\n",
      "memory usage: 701.7+ MB\n"
     ]
    }
   ],
   "source": [
    "print(\"----- Printing Dataset Info -----\")\n",
    "data.info()"
   ],
   "metadata": {
    "collapsed": false,
    "pycharm": {
     "name": "#%%\n"
    }
   }
  },
  {
   "cell_type": "code",
   "execution_count": 5,
   "outputs": [
    {
     "name": "stdout",
     "output_type": "stream",
     "text": [
      "----- Printing Dataset Shape -----\n"
     ]
    },
    {
     "data": {
      "text/plain": "(1999516, 46)"
     },
     "execution_count": 5,
     "metadata": {},
     "output_type": "execute_result"
    }
   ],
   "source": [
    "print(\"----- Printing Dataset Shape -----\")\n",
    "data.shape"
   ],
   "metadata": {
    "collapsed": false,
    "pycharm": {
     "name": "#%%\n"
    }
   }
  },
  {
   "cell_type": "markdown",
   "source": [
    " As we can see, there are total `1999516` examples and each example has `46` attributes"
   ],
   "metadata": {
    "collapsed": false,
    "pycharm": {
     "name": "#%% md\n"
    }
   }
  },
  {
   "cell_type": "code",
   "execution_count": 6,
   "outputs": [
    {
     "name": "stdout",
     "output_type": "stream",
     "text": [
      "----- printing dataset examples (first four rows) -----\n"
     ]
    },
    {
     "data": {
      "text/plain": "        id                                       comment_text  split  \\\n0  1083994  He got his money... now he lies in wait till a...  train   \n1   650904  Mad dog will surely put the liberals in mental...  train   \n2  5902188  And Trump continues his lifelong cowardice by ...  train   \n3  7084460  \"while arresting a man for resisting arrest\".\\...   test   \n\n                    created_date  publication_id  parent_id  article_id  \\\n0  2017-03-06 15:21:53.675241+00              21        NaN      317120   \n1  2016-12-02 16:44:21.329535+00              21        NaN      154086   \n2  2017-09-05 19:05:32.341360+00              55        NaN      374342   \n3  2016-11-01 16:53:33.561631+00              13        NaN      149218   \n\n     rating  funny  wow  ...  white  asian  latino  other_race_or_ethnicity  \\\n0  approved      0    0  ...    NaN    NaN     NaN                      NaN   \n1  approved      0    0  ...    NaN    NaN     NaN                      NaN   \n2  approved      1    0  ...    NaN    NaN     NaN                      NaN   \n3  approved      0    0  ...    NaN    NaN     NaN                      NaN   \n\n   physical_disability  intellectual_or_learning_disability  \\\n0                  NaN                                  NaN   \n1                  NaN                                  NaN   \n2                  NaN                                  NaN   \n3                  NaN                                  NaN   \n\n   psychiatric_or_mental_illness  other_disability  identity_annotator_count  \\\n0                            NaN               NaN                         0   \n1                            NaN               NaN                         0   \n2                            NaN               NaN                         0   \n3                            NaN               NaN                         0   \n\n   toxicity_annotator_count  \n0                        67  \n1                        76  \n2                        63  \n3                        76  \n\n[4 rows x 46 columns]",
      "text/html": "<div>\n<style scoped>\n    .dataframe tbody tr th:only-of-type {\n        vertical-align: middle;\n    }\n\n    .dataframe tbody tr th {\n        vertical-align: top;\n    }\n\n    .dataframe thead th {\n        text-align: right;\n    }\n</style>\n<table border=\"1\" class=\"dataframe\">\n  <thead>\n    <tr style=\"text-align: right;\">\n      <th></th>\n      <th>id</th>\n      <th>comment_text</th>\n      <th>split</th>\n      <th>created_date</th>\n      <th>publication_id</th>\n      <th>parent_id</th>\n      <th>article_id</th>\n      <th>rating</th>\n      <th>funny</th>\n      <th>wow</th>\n      <th>...</th>\n      <th>white</th>\n      <th>asian</th>\n      <th>latino</th>\n      <th>other_race_or_ethnicity</th>\n      <th>physical_disability</th>\n      <th>intellectual_or_learning_disability</th>\n      <th>psychiatric_or_mental_illness</th>\n      <th>other_disability</th>\n      <th>identity_annotator_count</th>\n      <th>toxicity_annotator_count</th>\n    </tr>\n  </thead>\n  <tbody>\n    <tr>\n      <th>0</th>\n      <td>1083994</td>\n      <td>He got his money... now he lies in wait till a...</td>\n      <td>train</td>\n      <td>2017-03-06 15:21:53.675241+00</td>\n      <td>21</td>\n      <td>NaN</td>\n      <td>317120</td>\n      <td>approved</td>\n      <td>0</td>\n      <td>0</td>\n      <td>...</td>\n      <td>NaN</td>\n      <td>NaN</td>\n      <td>NaN</td>\n      <td>NaN</td>\n      <td>NaN</td>\n      <td>NaN</td>\n      <td>NaN</td>\n      <td>NaN</td>\n      <td>0</td>\n      <td>67</td>\n    </tr>\n    <tr>\n      <th>1</th>\n      <td>650904</td>\n      <td>Mad dog will surely put the liberals in mental...</td>\n      <td>train</td>\n      <td>2016-12-02 16:44:21.329535+00</td>\n      <td>21</td>\n      <td>NaN</td>\n      <td>154086</td>\n      <td>approved</td>\n      <td>0</td>\n      <td>0</td>\n      <td>...</td>\n      <td>NaN</td>\n      <td>NaN</td>\n      <td>NaN</td>\n      <td>NaN</td>\n      <td>NaN</td>\n      <td>NaN</td>\n      <td>NaN</td>\n      <td>NaN</td>\n      <td>0</td>\n      <td>76</td>\n    </tr>\n    <tr>\n      <th>2</th>\n      <td>5902188</td>\n      <td>And Trump continues his lifelong cowardice by ...</td>\n      <td>train</td>\n      <td>2017-09-05 19:05:32.341360+00</td>\n      <td>55</td>\n      <td>NaN</td>\n      <td>374342</td>\n      <td>approved</td>\n      <td>1</td>\n      <td>0</td>\n      <td>...</td>\n      <td>NaN</td>\n      <td>NaN</td>\n      <td>NaN</td>\n      <td>NaN</td>\n      <td>NaN</td>\n      <td>NaN</td>\n      <td>NaN</td>\n      <td>NaN</td>\n      <td>0</td>\n      <td>63</td>\n    </tr>\n    <tr>\n      <th>3</th>\n      <td>7084460</td>\n      <td>\"while arresting a man for resisting arrest\".\\...</td>\n      <td>test</td>\n      <td>2016-11-01 16:53:33.561631+00</td>\n      <td>13</td>\n      <td>NaN</td>\n      <td>149218</td>\n      <td>approved</td>\n      <td>0</td>\n      <td>0</td>\n      <td>...</td>\n      <td>NaN</td>\n      <td>NaN</td>\n      <td>NaN</td>\n      <td>NaN</td>\n      <td>NaN</td>\n      <td>NaN</td>\n      <td>NaN</td>\n      <td>NaN</td>\n      <td>0</td>\n      <td>76</td>\n    </tr>\n  </tbody>\n</table>\n<p>4 rows × 46 columns</p>\n</div>"
     },
     "execution_count": 6,
     "metadata": {},
     "output_type": "execute_result"
    }
   ],
   "source": [
    "print(\"----- printing dataset examples (first four rows) -----\")\n",
    "data.head(4)"
   ],
   "metadata": {
    "collapsed": false,
    "pycharm": {
     "name": "#%%\n"
    }
   }
  },
  {
   "cell_type": "markdown",
   "source": [
    "#### As we look at the dataset, each row consists of 46 attributes. Many of these attributes are not going to affect our model in anyway and we will be removing them in our feature selection process further. Now let's look at the some of the important features in this dataset.\n",
    "#### First of all, attribute \"comment_text\" is the one that contains the plain text of each comment. this is going to be the only feature for our model. (X)\n",
    "#### there are several classes for each comment such as toxicity, severe_toxicity, obscene, sexual_explicit, identity_attack, insult, threat. These are the only features we will be caring about."
   ],
   "metadata": {
    "collapsed": false,
    "pycharm": {
     "name": "#%% md\n"
    }
   }
  },
  {
   "cell_type": "markdown",
   "source": [
    "# Clearning Dataset"
   ],
   "metadata": {
    "collapsed": false,
    "pycharm": {
     "name": "#%% md\n"
    }
   }
  },
  {
   "cell_type": "code",
   "execution_count": 7,
   "outputs": [],
   "source": [
    "cleaned_data = data.dropna()"
   ],
   "metadata": {
    "collapsed": false,
    "pycharm": {
     "name": "#%%\n"
    }
   }
  },
  {
   "cell_type": "markdown",
   "source": [
    "# Feature Selection"
   ],
   "metadata": {
    "collapsed": false
   }
  },
  {
   "cell_type": "code",
   "execution_count": 8,
   "outputs": [],
   "source": [
    "columns = [\"comment_text\", \"split\", \"toxicity\", \"sever_toxicity\", \"obscene\", \"sexual_explicit\", \"identity_attack\", \"insult\", \"threat\"]"
   ],
   "metadata": {
    "collapsed": false,
    "pycharm": {
     "name": "#%%\n"
    }
   }
  },
  {
   "cell_type": "code",
   "execution_count": 9,
   "outputs": [],
   "source": [
    "extracted_data = cleaned_data[data.columns[data.columns.isin(columns)]]"
   ],
   "metadata": {
    "collapsed": false,
    "pycharm": {
     "name": "#%%\n"
    }
   }
  },
  {
   "cell_type": "code",
   "execution_count": 10,
   "outputs": [
    {
     "data": {
      "text/plain": "(259716, 8)"
     },
     "execution_count": 10,
     "metadata": {},
     "output_type": "execute_result"
    }
   ],
   "source": [
    "extracted_data.shape"
   ],
   "metadata": {
    "collapsed": false,
    "pycharm": {
     "name": "#%%\n"
    }
   }
  },
  {
   "cell_type": "markdown",
   "source": [
    "#### We are reduced to only 9 of required attributes here"
   ],
   "metadata": {
    "collapsed": false,
    "pycharm": {
     "name": "#%% md\n"
    }
   }
  },
  {
   "cell_type": "markdown",
   "source": [
    "# Train and Test Split\n",
    "this dataset has a special attribute that helps us classify the dataset into test and train split. we don't need to use the sklearn function to split."
   ],
   "metadata": {
    "collapsed": false
   }
  },
  {
   "cell_type": "code",
   "execution_count": 11,
   "outputs": [],
   "source": [
    "data_train = extracted_data[extracted_data.split == \"train\"]\n",
    "data_train = data_train.sample(n=50000,random_state=1283)"
   ],
   "metadata": {
    "collapsed": false,
    "pycharm": {
     "name": "#%%\n"
    }
   }
  },
  {
   "cell_type": "code",
   "execution_count": 12,
   "outputs": [
    {
     "data": {
      "text/plain": "(50000, 8)"
     },
     "execution_count": 12,
     "metadata": {},
     "output_type": "execute_result"
    }
   ],
   "source": [
    "data_train.shape"
   ],
   "metadata": {
    "collapsed": false,
    "pycharm": {
     "name": "#%%\n"
    }
   }
  },
  {
   "cell_type": "code",
   "execution_count": 13,
   "outputs": [
    {
     "data": {
      "text/plain": "                                              comment_text  split  toxicity  \\\n1821138  How about being black? Are you fine with that?...  train       0.7   \n1287992                       That you volunteering is it?  train       0.0   \n1652481                                   Identify my lie.  train       0.0   \n1036757  He's not picking a fight. He's leveraging his ...  train       0.0   \n1458926  RangerMC, So you think that the left, which is...  train       0.0   \n\n         obscene  sexual_explicit  identity_attack  insult  threat  \n1821138      0.1              0.0              0.7     0.2     0.0  \n1287992      0.0              0.0              0.0     0.0     0.0  \n1652481      0.0              0.0              0.0     0.0     0.0  \n1036757      0.0              0.0              0.0     0.0     0.0  \n1458926      0.0              0.0              0.0     0.0     0.0  ",
      "text/html": "<div>\n<style scoped>\n    .dataframe tbody tr th:only-of-type {\n        vertical-align: middle;\n    }\n\n    .dataframe tbody tr th {\n        vertical-align: top;\n    }\n\n    .dataframe thead th {\n        text-align: right;\n    }\n</style>\n<table border=\"1\" class=\"dataframe\">\n  <thead>\n    <tr style=\"text-align: right;\">\n      <th></th>\n      <th>comment_text</th>\n      <th>split</th>\n      <th>toxicity</th>\n      <th>obscene</th>\n      <th>sexual_explicit</th>\n      <th>identity_attack</th>\n      <th>insult</th>\n      <th>threat</th>\n    </tr>\n  </thead>\n  <tbody>\n    <tr>\n      <th>1821138</th>\n      <td>How about being black? Are you fine with that?...</td>\n      <td>train</td>\n      <td>0.7</td>\n      <td>0.1</td>\n      <td>0.0</td>\n      <td>0.7</td>\n      <td>0.2</td>\n      <td>0.0</td>\n    </tr>\n    <tr>\n      <th>1287992</th>\n      <td>That you volunteering is it?</td>\n      <td>train</td>\n      <td>0.0</td>\n      <td>0.0</td>\n      <td>0.0</td>\n      <td>0.0</td>\n      <td>0.0</td>\n      <td>0.0</td>\n    </tr>\n    <tr>\n      <th>1652481</th>\n      <td>Identify my lie.</td>\n      <td>train</td>\n      <td>0.0</td>\n      <td>0.0</td>\n      <td>0.0</td>\n      <td>0.0</td>\n      <td>0.0</td>\n      <td>0.0</td>\n    </tr>\n    <tr>\n      <th>1036757</th>\n      <td>He's not picking a fight. He's leveraging his ...</td>\n      <td>train</td>\n      <td>0.0</td>\n      <td>0.0</td>\n      <td>0.0</td>\n      <td>0.0</td>\n      <td>0.0</td>\n      <td>0.0</td>\n    </tr>\n    <tr>\n      <th>1458926</th>\n      <td>RangerMC, So you think that the left, which is...</td>\n      <td>train</td>\n      <td>0.0</td>\n      <td>0.0</td>\n      <td>0.0</td>\n      <td>0.0</td>\n      <td>0.0</td>\n      <td>0.0</td>\n    </tr>\n  </tbody>\n</table>\n</div>"
     },
     "execution_count": 13,
     "metadata": {},
     "output_type": "execute_result"
    }
   ],
   "source": [
    "data_train.head(5)"
   ],
   "metadata": {
    "collapsed": false,
    "pycharm": {
     "name": "#%%\n"
    }
   }
  },
  {
   "cell_type": "code",
   "execution_count": 14,
   "outputs": [
    {
     "data": {
      "text/plain": "(24629, 8)"
     },
     "execution_count": 14,
     "metadata": {},
     "output_type": "execute_result"
    }
   ],
   "source": [
    "data_test = extracted_data[extracted_data.split == \"test\"]\n",
    "data_test.shape"
   ],
   "metadata": {
    "collapsed": false,
    "pycharm": {
     "name": "#%%\n"
    }
   }
  },
  {
   "cell_type": "markdown",
   "source": [
    "# Bag of Words Model"
   ],
   "metadata": {
    "collapsed": false,
    "pycharm": {
     "name": "#%% md\n"
    }
   }
  },
  {
   "cell_type": "markdown",
   "source": [
    "#### Bag of words is a Natural Language Processing technique of text modelling. Through this blog, we will learn more about why Bag of Words is used, we will understand the concept with the help of an example, learn more about it’s implementation in Python, and more."
   ],
   "metadata": {
    "collapsed": false,
    "pycharm": {
     "name": "#%% md\n"
    }
   }
  },
  {
   "cell_type": "code",
   "execution_count": 15,
   "outputs": [],
   "source": [
    "import re\n",
    "import math\n",
    "from sklearn.feature_extraction.text import CountVectorizer\n",
    "from sklearn.metrics import roc_curve,auc\n",
    "from tqdm.notebook import tqdm"
   ],
   "metadata": {
    "collapsed": false,
    "pycharm": {
     "name": "#%%\n"
    }
   }
  },
  {
   "cell_type": "markdown",
   "source": [
    "### NLTK is a leading platform for building Python programs to work with human language data. It provides easy-to-use interfaces to over 50 corpora and lexical resources such as WordNet, along with a suite of text processing libraries for classification, tokenization, stemming, tagging, parsing, and semantic reasoning, wrappers for industrial-strength NLP libraries, and an active discussion forum. We will use NLTK for our bag of words model implementation."
   ],
   "metadata": {
    "collapsed": false
   }
  },
  {
   "cell_type": "code",
   "execution_count": 16,
   "outputs": [
    {
     "name": "stderr",
     "output_type": "stream",
     "text": [
      "[nltk_data] Downloading collection 'popular'\n",
      "[nltk_data]    | \n",
      "[nltk_data]    | Downloading package cmudict to\n",
      "[nltk_data]    |     /Users/harshpareek/nltk_data...\n",
      "[nltk_data]    |   Package cmudict is already up-to-date!\n",
      "[nltk_data]    | Downloading package gazetteers to\n",
      "[nltk_data]    |     /Users/harshpareek/nltk_data...\n",
      "[nltk_data]    |   Package gazetteers is already up-to-date!\n",
      "[nltk_data]    | Downloading package genesis to\n",
      "[nltk_data]    |     /Users/harshpareek/nltk_data...\n",
      "[nltk_data]    |   Package genesis is already up-to-date!\n",
      "[nltk_data]    | Downloading package gutenberg to\n",
      "[nltk_data]    |     /Users/harshpareek/nltk_data...\n",
      "[nltk_data]    |   Package gutenberg is already up-to-date!\n",
      "[nltk_data]    | Downloading package inaugural to\n",
      "[nltk_data]    |     /Users/harshpareek/nltk_data...\n",
      "[nltk_data]    |   Package inaugural is already up-to-date!\n",
      "[nltk_data]    | Downloading package movie_reviews to\n",
      "[nltk_data]    |     /Users/harshpareek/nltk_data...\n",
      "[nltk_data]    |   Package movie_reviews is already up-to-date!\n",
      "[nltk_data]    | Downloading package names to\n",
      "[nltk_data]    |     /Users/harshpareek/nltk_data...\n",
      "[nltk_data]    |   Package names is already up-to-date!\n",
      "[nltk_data]    | Downloading package shakespeare to\n",
      "[nltk_data]    |     /Users/harshpareek/nltk_data...\n",
      "[nltk_data]    |   Package shakespeare is already up-to-date!\n",
      "[nltk_data]    | Downloading package stopwords to\n",
      "[nltk_data]    |     /Users/harshpareek/nltk_data...\n",
      "[nltk_data]    |   Package stopwords is already up-to-date!\n",
      "[nltk_data]    | Downloading package treebank to\n",
      "[nltk_data]    |     /Users/harshpareek/nltk_data...\n",
      "[nltk_data]    |   Package treebank is already up-to-date!\n",
      "[nltk_data]    | Downloading package twitter_samples to\n",
      "[nltk_data]    |     /Users/harshpareek/nltk_data...\n",
      "[nltk_data]    |   Package twitter_samples is already up-to-date!\n",
      "[nltk_data]    | Downloading package omw to\n",
      "[nltk_data]    |     /Users/harshpareek/nltk_data...\n",
      "[nltk_data]    |   Package omw is already up-to-date!\n",
      "[nltk_data]    | Downloading package omw-1.4 to\n",
      "[nltk_data]    |     /Users/harshpareek/nltk_data...\n",
      "[nltk_data]    |   Package omw-1.4 is already up-to-date!\n",
      "[nltk_data]    | Downloading package wordnet to\n",
      "[nltk_data]    |     /Users/harshpareek/nltk_data...\n",
      "[nltk_data]    |   Package wordnet is already up-to-date!\n",
      "[nltk_data]    | Downloading package wordnet2021 to\n",
      "[nltk_data]    |     /Users/harshpareek/nltk_data...\n",
      "[nltk_data]    |   Package wordnet2021 is already up-to-date!\n",
      "[nltk_data]    | Downloading package wordnet31 to\n",
      "[nltk_data]    |     /Users/harshpareek/nltk_data...\n",
      "[nltk_data]    |   Package wordnet31 is already up-to-date!\n",
      "[nltk_data]    | Downloading package wordnet_ic to\n",
      "[nltk_data]    |     /Users/harshpareek/nltk_data...\n",
      "[nltk_data]    |   Package wordnet_ic is already up-to-date!\n",
      "[nltk_data]    | Downloading package words to\n",
      "[nltk_data]    |     /Users/harshpareek/nltk_data...\n",
      "[nltk_data]    |   Package words is already up-to-date!\n",
      "[nltk_data]    | Downloading package maxent_ne_chunker to\n",
      "[nltk_data]    |     /Users/harshpareek/nltk_data...\n",
      "[nltk_data]    |   Package maxent_ne_chunker is already up-to-date!\n",
      "[nltk_data]    | Downloading package punkt to\n",
      "[nltk_data]    |     /Users/harshpareek/nltk_data...\n",
      "[nltk_data]    |   Package punkt is already up-to-date!\n",
      "[nltk_data]    | Downloading package snowball_data to\n",
      "[nltk_data]    |     /Users/harshpareek/nltk_data...\n",
      "[nltk_data]    |   Package snowball_data is already up-to-date!\n",
      "[nltk_data]    | Downloading package averaged_perceptron_tagger to\n",
      "[nltk_data]    |     /Users/harshpareek/nltk_data...\n",
      "[nltk_data]    |   Package averaged_perceptron_tagger is already up-\n",
      "[nltk_data]    |       to-date!\n",
      "[nltk_data]    | \n",
      "[nltk_data]  Done downloading collection popular\n"
     ]
    },
    {
     "data": {
      "text/plain": "True"
     },
     "execution_count": 16,
     "metadata": {},
     "output_type": "execute_result"
    }
   ],
   "source": [
    "from nltk.corpus import stopwords\n",
    "import nltk\n",
    "nltk.download('popular')"
   ],
   "metadata": {
    "collapsed": false,
    "pycharm": {
     "name": "#%%\n"
    }
   }
  },
  {
   "cell_type": "code",
   "execution_count": 17,
   "outputs": [],
   "source": [
    "def comments_to_words( raw_review ):\n",
    "    # Function to convert a raw review to a string of words\n",
    "    # The input is a single string (a raw movie review), and\n",
    "    # the output is a single string (a preprocessed movie review)\n",
    "    #\n",
    "    # 1. Remove non-letters\n",
    "    letters_only = re.sub(\"[^a-zA-Z]\", \" \", raw_review)\n",
    "    #\n",
    "    # 2. Convert to lower case, split into individual words\n",
    "    words = letters_only.lower().split()\n",
    "    #\n",
    "    # 3. In Python, searching a set is much faster than searching\n",
    "    #   a list, so convert the stop words to a set\n",
    "    stops = set(stopwords.words(\"english\"))\n",
    "    #\n",
    "    # 4. Remove stop words\n",
    "    meaningful_words = [w for w in words if not w in stops]\n",
    "    #\n",
    "    # 6. Join the words back into one string separated by space,\n",
    "    # and return the result.\n",
    "    return(\" \".join(meaningful_words))"
   ],
   "metadata": {
    "collapsed": false,
    "pycharm": {
     "name": "#%%\n"
    }
   }
  },
  {
   "cell_type": "markdown",
   "source": [
    "Now we will store the cleaned comment texts using the `comments_to_words` function in the `cleaned_comments[]` array."
   ],
   "metadata": {
    "collapsed": false
   }
  },
  {
   "cell_type": "code",
   "execution_count": 18,
   "outputs": [],
   "source": [
    "cleaned_comments = []"
   ],
   "metadata": {
    "collapsed": false,
    "pycharm": {
     "name": "#%%\n"
    }
   }
  },
  {
   "cell_type": "code",
   "execution_count": 19,
   "outputs": [
    {
     "data": {
      "text/plain": "50000"
     },
     "execution_count": 19,
     "metadata": {},
     "output_type": "execute_result"
    }
   ],
   "source": [
    "num_reviews = data_train[\"comment_text\"].size\n",
    "num_reviews"
   ],
   "metadata": {
    "collapsed": false,
    "pycharm": {
     "name": "#%%\n"
    }
   }
  },
  {
   "cell_type": "markdown",
   "source": [
    "`tqdm` helps us track the number of processed comments"
   ],
   "metadata": {
    "collapsed": false
   }
  },
  {
   "cell_type": "code",
   "execution_count": 20,
   "outputs": [
    {
     "data": {
      "text/plain": "  0%|          | 0/50000 [00:00<?, ?it/s]",
      "application/vnd.jupyter.widget-view+json": {
       "version_major": 2,
       "version_minor": 0,
       "model_id": "61b856f1801342d6af027e9d027d6a04"
      }
     },
     "metadata": {},
     "output_type": "display_data"
    }
   ],
   "source": [
    "for i in tqdm(range(0,num_reviews)):\n",
    "    cleaned_comments.append(comments_to_words(data_train.iloc[i,0]))"
   ],
   "metadata": {
    "collapsed": false,
    "pycharm": {
     "name": "#%%\n"
    }
   }
  },
  {
   "cell_type": "markdown",
   "source": [
    "# CountVectorizer converts a collection of text documents to a matrix of token counts.\n",
    "\n",
    "This implementation produces a sparse representation of the counts using scipy.sparse.csr_matrix.\n",
    "\n",
    "If you do not provide an a-priori dictionary and you do not use an analyzer that does some kind of feature selection then the number of features will be equal to the vocabulary size found by analyzing the data.\n",
    "\n"
   ],
   "metadata": {
    "collapsed": false,
    "pycharm": {
     "name": "#%% md\n"
    }
   }
  },
  {
   "cell_type": "code",
   "execution_count": 21,
   "outputs": [
    {
     "data": {
      "text/plain": "'picking fight leveraging position governor subtle obfuscated ways alaskans lose concerns comments disappear back work big brother listening'"
     },
     "execution_count": 21,
     "metadata": {},
     "output_type": "execute_result"
    }
   ],
   "source": [
    "# let's look at the comment_text sample\n",
    "cleaned_comments[3]"
   ],
   "metadata": {
    "collapsed": false,
    "pycharm": {
     "name": "#%%\n"
    }
   }
  },
  {
   "cell_type": "markdown",
   "source": [
    "### Count Vectorizer\n",
    "Convert a collection of text documents to a matrix of token counts.\n",
    "\n",
    "This implementation produces a sparse representation of the counts using scipy.sparse.csr_matrix.\n",
    "\n",
    "If you do not provide an a-priori dictionary and you do not use an analyzer that does some kind of feature selection then the number of features will be equal to the vocabulary size found by analyzing the data."
   ],
   "metadata": {
    "collapsed": false
   }
  },
  {
   "cell_type": "code",
   "execution_count": 22,
   "outputs": [],
   "source": [
    "# vectorizer\n",
    "vectorizer = CountVectorizer(\n",
    "    analyzer=\"word\",\n",
    "    tokenizer=None,\n",
    "    stop_words=None,\n",
    "    max_features=10000,\n",
    "    preprocessor=None\n",
    ")"
   ],
   "metadata": {
    "collapsed": false,
    "pycharm": {
     "name": "#%%\n"
    }
   }
  },
  {
   "cell_type": "code",
   "execution_count": 23,
   "outputs": [],
   "source": [
    "# extract all the comments from the training dataset\n",
    "train_comment_texts = cleaned_comments"
   ],
   "metadata": {
    "collapsed": false,
    "pycharm": {
     "name": "#%%\n"
    }
   }
  },
  {
   "cell_type": "code",
   "execution_count": 24,
   "outputs": [],
   "source": [
    "# transforming the comments into word tokens\n",
    "train_data_features = vectorizer.fit_transform(train_comment_texts)"
   ],
   "metadata": {
    "collapsed": false,
    "pycharm": {
     "name": "#%%\n"
    }
   }
  },
  {
   "cell_type": "code",
   "execution_count": 25,
   "outputs": [
    {
     "name": "stdout",
     "output_type": "stream",
     "text": [
      "size of vocabulary: 10000\n"
     ]
    }
   ],
   "source": [
    "# getting all the words that are extracted from the comment texts\n",
    "vocab = vectorizer.get_feature_names_out()\n",
    "print(\"size of vocabulary: %d\" %(len(vocab)))"
   ],
   "metadata": {
    "collapsed": false,
    "pycharm": {
     "name": "#%%\n"
    }
   }
  },
  {
   "cell_type": "code",
   "execution_count": 26,
   "outputs": [],
   "source": [
    "# converting the output of the vectorizer into array\n",
    "train_data_features = train_data_features.toarray()"
   ],
   "metadata": {
    "collapsed": false,
    "pycharm": {
     "name": "#%%\n"
    }
   }
  },
  {
   "cell_type": "code",
   "execution_count": 27,
   "outputs": [
    {
     "name": "stdout",
     "output_type": "stream",
     "text": [
      "our train_features dataset has shape:  (50000, 10000)\n"
     ]
    }
   ],
   "source": [
    "print(\"our train_features dataset has shape: \",train_data_features.shape)"
   ],
   "metadata": {
    "collapsed": false,
    "pycharm": {
     "name": "#%%\n"
    }
   }
  },
  {
   "cell_type": "code",
   "execution_count": 28,
   "outputs": [
    {
     "name": "stdout",
     "output_type": "stream",
     "text": [
      "aa -> 44\n",
      "ab -> 26\n",
      "abandon -> 50\n",
      "abandoned -> 75\n",
      "abandoning -> 28\n",
      "abandonment -> 19\n",
      "abbott -> 15\n",
      "abc -> 29\n",
      "abhorrent -> 22\n",
      "abide -> 39\n",
      "abiding -> 82\n",
      "abilities -> 24\n",
      "ability -> 288\n",
      "abject -> 19\n",
      "able -> 704\n",
      "abnormal -> 16\n",
      "abolish -> 29\n",
      "abolished -> 21\n",
      "aboriginal -> 58\n",
      "aboriginals -> 21\n",
      "abort -> 33\n",
      "aborted -> 30\n",
      "abortion -> 882\n",
      "abortions -> 237\n",
      "abraham -> 59\n",
      "abroad -> 28\n",
      "absence -> 59\n",
      "absent -> 37\n",
      "absolute -> 164\n",
      "absolutely -> 481\n",
      "absolutist -> 15\n",
      "absorb -> 22\n",
      "absorbed -> 29\n",
      "abstinence -> 16\n",
      "abstract -> 22\n",
      "absurd -> 118\n",
      "abundance -> 20\n",
      "abuse -> 622\n",
      "abused -> 167\n",
      "abuser -> 37\n",
      "abusers -> 71\n",
      "abuses -> 38\n",
      "abusing -> 57\n",
      "abusive -> 84\n",
      "aca -> 173\n",
      "academic -> 93\n",
      "academics -> 27\n",
      "academy -> 17\n",
      "accent -> 27\n",
      "accept -> 556\n",
      "acceptable -> 165\n",
      "acceptance -> 88\n",
      "accepted -> 211\n",
      "accepting -> 107\n",
      "accepts -> 28\n",
      "access -> 360\n",
      "accessible -> 27\n",
      "accident -> 95\n",
      "accidental -> 24\n",
      "accidentally -> 23\n",
      "accidents -> 48\n",
      "accommodate -> 60\n",
      "accommodating -> 17\n",
      "accommodation -> 42\n",
      "accommodations -> 16\n",
      "accompanied -> 18\n",
      "accompany -> 19\n",
      "accomplish -> 68\n",
      "accomplished -> 89\n",
      "accomplishment -> 16\n",
      "accomplishments -> 41\n",
      "accord -> 37\n",
      "accordance -> 26\n",
      "according -> 521\n",
      "accordingly -> 48\n",
      "account -> 257\n",
      "accountability -> 94\n",
      "accountable -> 106\n",
      "accounted -> 16\n",
      "accounting -> 34\n",
      "accounts -> 108\n",
      "accuracy -> 33\n",
      "accurate -> 200\n",
      "accurately -> 44\n",
      "accusation -> 87\n",
      "accusations -> 112\n",
      "accuse -> 85\n",
      "accused -> 237\n",
      "accusers -> 21\n",
      "accusing -> 62\n",
      "accustomed -> 16\n",
      "aces -> 16\n",
      "achieve -> 91\n",
      "achieved -> 42\n",
      "achievement -> 23\n",
      "achieving -> 15\n",
      "acknowledge -> 127\n",
      "acknowledged -> 52\n",
      "acknowledgement -> 17\n",
      "acknowledges -> 17\n",
      "acknowledging -> 40\n"
     ]
    }
   ],
   "source": [
    "# Generating frequencies\n",
    "dist = np.sum(train_data_features,axis=0)\n",
    "\n",
    "# sample frequencies\n",
    "total_count = 0\n",
    "for tag,count in zip(vocab,dist):\n",
    "    if total_count > 100:\n",
    "        break\n",
    "    print(\"%s -> %d\" % (tag,count))\n",
    "    total_count += 1"
   ],
   "metadata": {
    "collapsed": false,
    "pycharm": {
     "name": "#%%\n"
    }
   }
  },
  {
   "cell_type": "markdown",
   "source": [
    "### Instead of using simple vectorizer we will use TfidVectorizer"
   ],
   "metadata": {
    "collapsed": false,
    "pycharm": {
     "name": "#%% md\n"
    }
   }
  },
  {
   "cell_type": "markdown",
   "source": [
    "TF-IDF means Term Frequency - Inverse Document Frequency. This is a statistic that is based on the frequency of a word in the corpus but it also provides a numerical representation of how important a word is for statistical analysis.\n",
    "\n",
    "TF-IDF is better than Count Vectorizers because it not only focuses on the frequency of words present in the corpus but also provides the importance of the words. We can then remove the words that are less important for analysis, hence making the model building less complex by reducing the input dimensions."
   ],
   "metadata": {
    "collapsed": false
   }
  },
  {
   "cell_type": "code",
   "execution_count": 29,
   "outputs": [],
   "source": [
    "from sklearn.feature_extraction.text import TfidfVectorizer"
   ],
   "metadata": {
    "collapsed": false,
    "pycharm": {
     "name": "#%%\n"
    }
   }
  },
  {
   "cell_type": "code",
   "execution_count": 30,
   "outputs": [],
   "source": [
    "vectorizer_norm = TfidfVectorizer(\n",
    "    analyzer=\"word\",\n",
    "    tokenizer=None,\n",
    "    stop_words=None,\n",
    "    max_features=10000,\n",
    "    preprocessor=None\n",
    ")"
   ],
   "metadata": {
    "collapsed": false,
    "pycharm": {
     "name": "#%%\n"
    }
   }
  },
  {
   "cell_type": "code",
   "execution_count": 31,
   "outputs": [],
   "source": [
    "train_data_features_normalized = vectorizer_norm.fit_transform(train_comment_texts)"
   ],
   "metadata": {
    "collapsed": false,
    "pycharm": {
     "name": "#%%\n"
    }
   }
  },
  {
   "cell_type": "code",
   "execution_count": 32,
   "outputs": [
    {
     "name": "stdout",
     "output_type": "stream",
     "text": [
      "size of vocabulary: 10000\n"
     ]
    }
   ],
   "source": [
    "vocab_norm = vectorizer_norm.get_feature_names_out()\n",
    "print(\"size of vocabulary: %d\" %(len(vocab_norm)))"
   ],
   "metadata": {
    "collapsed": false,
    "pycharm": {
     "name": "#%%\n"
    }
   }
  },
  {
   "cell_type": "code",
   "execution_count": 33,
   "outputs": [],
   "source": [
    "train_data_features_normalized = train_data_features_normalized.toarray()"
   ],
   "metadata": {
    "collapsed": false,
    "pycharm": {
     "name": "#%%\n"
    }
   }
  },
  {
   "cell_type": "code",
   "execution_count": 34,
   "outputs": [
    {
     "name": "stdout",
     "output_type": "stream",
     "text": [
      "aa -> 8\n",
      "ab -> 5\n",
      "abandon -> 9\n",
      "abandoned -> 13\n",
      "abandoning -> 5\n",
      "abandonment -> 3\n",
      "abbott -> 2\n",
      "abc -> 7\n",
      "abhorrent -> 4\n",
      "abide -> 7\n",
      "abiding -> 15\n",
      "abilities -> 4\n",
      "ability -> 41\n",
      "abject -> 3\n",
      "able -> 91\n",
      "abnormal -> 3\n",
      "abolish -> 4\n",
      "abolished -> 4\n",
      "aboriginal -> 12\n",
      "aboriginals -> 5\n",
      "abort -> 6\n",
      "aborted -> 6\n",
      "abortion -> 111\n",
      "abortions -> 36\n",
      "abraham -> 9\n",
      "abroad -> 5\n",
      "absence -> 11\n",
      "absent -> 7\n",
      "absolute -> 28\n",
      "absolutely -> 81\n",
      "absolutist -> 2\n",
      "absorb -> 3\n",
      "absorbed -> 5\n",
      "abstinence -> 3\n",
      "abstract -> 4\n",
      "absurd -> 21\n",
      "abundance -> 3\n",
      "abuse -> 77\n",
      "abused -> 28\n",
      "abuser -> 7\n",
      "abusers -> 13\n",
      "abuses -> 8\n",
      "abusing -> 11\n",
      "abusive -> 17\n",
      "aca -> 30\n",
      "academic -> 15\n",
      "academics -> 5\n",
      "academy -> 3\n",
      "accent -> 5\n",
      "accept -> 74\n",
      "acceptable -> 28\n",
      "acceptance -> 15\n",
      "accepted -> 33\n",
      "accepting -> 19\n",
      "accepts -> 5\n",
      "access -> 54\n",
      "accessible -> 6\n",
      "accident -> 18\n",
      "accidental -> 4\n",
      "accidentally -> 5\n",
      "accidents -> 10\n",
      "accommodate -> 10\n",
      "accommodating -> 3\n",
      "accommodation -> 7\n",
      "accommodations -> 3\n",
      "accompanied -> 4\n",
      "accompany -> 4\n",
      "accomplish -> 12\n",
      "accomplished -> 16\n",
      "accomplishment -> 3\n",
      "accomplishments -> 8\n",
      "accord -> 7\n",
      "accordance -> 4\n",
      "according -> 75\n",
      "accordingly -> 9\n",
      "account -> 42\n",
      "accountability -> 15\n",
      "accountable -> 19\n",
      "accounted -> 2\n",
      "accounting -> 7\n",
      "accounts -> 20\n",
      "accuracy -> 5\n",
      "accurate -> 38\n",
      "accurately -> 8\n",
      "accusation -> 15\n",
      "accusations -> 20\n",
      "accuse -> 15\n",
      "accused -> 38\n",
      "accusers -> 4\n",
      "accusing -> 13\n",
      "accustomed -> 3\n",
      "aces -> 3\n",
      "achieve -> 14\n",
      "achieved -> 7\n",
      "achievement -> 4\n",
      "achieving -> 3\n",
      "acknowledge -> 20\n",
      "acknowledged -> 9\n",
      "acknowledgement -> 3\n",
      "acknowledges -> 3\n",
      "acknowledging -> 7\n"
     ]
    }
   ],
   "source": [
    "# Generating frequencies\n",
    "dist_norm = np.sum(train_data_features_normalized,axis=0)\n",
    "\n",
    "# sample frequencies\n",
    "total_count_norm = 0\n",
    "for tag,count in zip(vocab_norm,dist_norm):\n",
    "    if total_count_norm > 100:\n",
    "        break\n",
    "    print(\"%s -> %d\" % (tag,count))\n",
    "    total_count_norm += 1"
   ],
   "metadata": {
    "collapsed": false,
    "pycharm": {
     "name": "#%%\n"
    }
   }
  },
  {
   "cell_type": "markdown",
   "source": [
    "Now we will get the label attributes from the training data"
   ],
   "metadata": {
    "collapsed": false,
    "pycharm": {
     "name": "#%% md\n"
    }
   }
  },
  {
   "cell_type": "code",
   "execution_count": 35,
   "outputs": [
    {
     "data": {
      "text/plain": "(50000, 10000)"
     },
     "execution_count": 35,
     "metadata": {},
     "output_type": "execute_result"
    }
   ],
   "source": [
    "train_data_features_normalized.shape"
   ],
   "metadata": {
    "collapsed": false,
    "pycharm": {
     "name": "#%%\n"
    }
   }
  },
  {
   "cell_type": "code",
   "execution_count": 36,
   "outputs": [],
   "source": [
    "train_data_labels = data_train.drop([\"comment_text\",\"split\"], axis=1)"
   ],
   "metadata": {
    "collapsed": false,
    "pycharm": {
     "name": "#%%\n"
    }
   }
  },
  {
   "cell_type": "code",
   "execution_count": 37,
   "outputs": [
    {
     "data": {
      "text/plain": "Index(['toxicity', 'obscene', 'sexual_explicit', 'identity_attack', 'insult',\n       'threat'],\n      dtype='object')"
     },
     "execution_count": 37,
     "metadata": {},
     "output_type": "execute_result"
    }
   ],
   "source": [
    "train_data_labels.columns"
   ],
   "metadata": {
    "collapsed": false,
    "pycharm": {
     "name": "#%%\n"
    }
   }
  },
  {
   "cell_type": "code",
   "execution_count": 38,
   "outputs": [
    {
     "data": {
      "text/plain": "(50000, 10000)"
     },
     "execution_count": 38,
     "metadata": {},
     "output_type": "execute_result"
    }
   ],
   "source": [
    "train_data_features_normalized.shape"
   ],
   "metadata": {
    "collapsed": false,
    "pycharm": {
     "name": "#%%\n"
    }
   }
  },
  {
   "cell_type": "code",
   "execution_count": 39,
   "outputs": [
    {
     "data": {
      "text/plain": "(50000, 6)"
     },
     "execution_count": 39,
     "metadata": {},
     "output_type": "execute_result"
    }
   ],
   "source": [
    "train_data_labels.shape"
   ],
   "metadata": {
    "collapsed": false,
    "pycharm": {
     "name": "#%%\n"
    }
   }
  },
  {
   "cell_type": "markdown",
   "source": [
    "### encode the labels to classify into one"
   ],
   "metadata": {
    "collapsed": false
   }
  },
  {
   "cell_type": "markdown",
   "source": [
    "our label dataset for training looks like following"
   ],
   "metadata": {
    "collapsed": false
   }
  },
  {
   "cell_type": "code",
   "execution_count": 40,
   "outputs": [
    {
     "data": {
      "text/plain": "         toxicity  obscene  sexual_explicit  identity_attack  insult  threat\n1821138  0.700000    0.100              0.0         0.700000    0.20  0.0000\n1287992  0.000000    0.000              0.0         0.000000    0.00  0.0000\n1652481  0.000000    0.000              0.0         0.000000    0.00  0.0000\n1036757  0.000000    0.000              0.0         0.000000    0.00  0.0000\n1458926  0.000000    0.000              0.0         0.000000    0.00  0.0000\n1340281  0.166667    0.000              0.0         0.166667    0.00  0.0000\n1698766  0.166667    0.000              0.0         0.166667    0.00  0.0000\n1804367  0.600000    0.000              0.0         0.700000    0.20  0.0000\n1804731  0.600000    0.025              0.0         0.400000    0.55  0.0125\n1631894  0.100000    0.000              0.0         0.100000    0.10  0.1000",
      "text/html": "<div>\n<style scoped>\n    .dataframe tbody tr th:only-of-type {\n        vertical-align: middle;\n    }\n\n    .dataframe tbody tr th {\n        vertical-align: top;\n    }\n\n    .dataframe thead th {\n        text-align: right;\n    }\n</style>\n<table border=\"1\" class=\"dataframe\">\n  <thead>\n    <tr style=\"text-align: right;\">\n      <th></th>\n      <th>toxicity</th>\n      <th>obscene</th>\n      <th>sexual_explicit</th>\n      <th>identity_attack</th>\n      <th>insult</th>\n      <th>threat</th>\n    </tr>\n  </thead>\n  <tbody>\n    <tr>\n      <th>1821138</th>\n      <td>0.700000</td>\n      <td>0.100</td>\n      <td>0.0</td>\n      <td>0.700000</td>\n      <td>0.20</td>\n      <td>0.0000</td>\n    </tr>\n    <tr>\n      <th>1287992</th>\n      <td>0.000000</td>\n      <td>0.000</td>\n      <td>0.0</td>\n      <td>0.000000</td>\n      <td>0.00</td>\n      <td>0.0000</td>\n    </tr>\n    <tr>\n      <th>1652481</th>\n      <td>0.000000</td>\n      <td>0.000</td>\n      <td>0.0</td>\n      <td>0.000000</td>\n      <td>0.00</td>\n      <td>0.0000</td>\n    </tr>\n    <tr>\n      <th>1036757</th>\n      <td>0.000000</td>\n      <td>0.000</td>\n      <td>0.0</td>\n      <td>0.000000</td>\n      <td>0.00</td>\n      <td>0.0000</td>\n    </tr>\n    <tr>\n      <th>1458926</th>\n      <td>0.000000</td>\n      <td>0.000</td>\n      <td>0.0</td>\n      <td>0.000000</td>\n      <td>0.00</td>\n      <td>0.0000</td>\n    </tr>\n    <tr>\n      <th>1340281</th>\n      <td>0.166667</td>\n      <td>0.000</td>\n      <td>0.0</td>\n      <td>0.166667</td>\n      <td>0.00</td>\n      <td>0.0000</td>\n    </tr>\n    <tr>\n      <th>1698766</th>\n      <td>0.166667</td>\n      <td>0.000</td>\n      <td>0.0</td>\n      <td>0.166667</td>\n      <td>0.00</td>\n      <td>0.0000</td>\n    </tr>\n    <tr>\n      <th>1804367</th>\n      <td>0.600000</td>\n      <td>0.000</td>\n      <td>0.0</td>\n      <td>0.700000</td>\n      <td>0.20</td>\n      <td>0.0000</td>\n    </tr>\n    <tr>\n      <th>1804731</th>\n      <td>0.600000</td>\n      <td>0.025</td>\n      <td>0.0</td>\n      <td>0.400000</td>\n      <td>0.55</td>\n      <td>0.0125</td>\n    </tr>\n    <tr>\n      <th>1631894</th>\n      <td>0.100000</td>\n      <td>0.000</td>\n      <td>0.0</td>\n      <td>0.100000</td>\n      <td>0.10</td>\n      <td>0.1000</td>\n    </tr>\n  </tbody>\n</table>\n</div>"
     },
     "execution_count": 40,
     "metadata": {},
     "output_type": "execute_result"
    }
   ],
   "source": [
    "train_data_labels.head(10)"
   ],
   "metadata": {
    "collapsed": false,
    "pycharm": {
     "name": "#%%\n"
    }
   }
  },
  {
   "cell_type": "markdown",
   "source": [
    "let's find the max value for each row"
   ],
   "metadata": {
    "collapsed": false,
    "pycharm": {
     "name": "#%% md\n"
    }
   }
  },
  {
   "cell_type": "code",
   "execution_count": 41,
   "outputs": [
    {
     "data": {
      "text/plain": "1821138    0.700000\n1287992    0.000000\n1652481    0.000000\n1036757    0.000000\n1458926    0.000000\n1340281    0.166667\ndtype: float64"
     },
     "execution_count": 41,
     "metadata": {},
     "output_type": "execute_result"
    }
   ],
   "source": [
    "max_values = train_data_labels.max(axis=1)\n",
    "max_values.head(6)"
   ],
   "metadata": {
    "collapsed": false,
    "pycharm": {
     "name": "#%%\n"
    }
   }
  },
  {
   "cell_type": "markdown",
   "source": [
    "now we will find the column name for each row which has the maximum value. that maximum value column is the final column. array of these columns will be the final y dataset for our models"
   ],
   "metadata": {
    "collapsed": false,
    "pycharm": {
     "name": "#%% md\n"
    }
   }
  },
  {
   "cell_type": "code",
   "execution_count": 42,
   "outputs": [
    {
     "data": {
      "text/plain": "1821138    toxicity\n1287992    toxicity\n1652481    toxicity\n1036757    toxicity\n1458926    toxicity\n1340281    toxicity\ndtype: object"
     },
     "execution_count": 42,
     "metadata": {},
     "output_type": "execute_result"
    }
   ],
   "source": [
    "max_value_column_name = train_data_labels.idxmax(axis=1)\n",
    "train_Y = max_value_column_name\n",
    "train_Y.head(6)"
   ],
   "metadata": {
    "collapsed": false,
    "pycharm": {
     "name": "#%%\n"
    }
   }
  },
  {
   "cell_type": "markdown",
   "source": [
    "# Encoding Labels"
   ],
   "metadata": {
    "collapsed": false
   }
  },
  {
   "cell_type": "code",
   "execution_count": 43,
   "outputs": [],
   "source": [
    "from sklearn.preprocessing import OneHotEncoder"
   ],
   "metadata": {
    "collapsed": false,
    "pycharm": {
     "name": "#%%\n"
    }
   }
  },
  {
   "cell_type": "code",
   "execution_count": 44,
   "outputs": [],
   "source": [
    "enc = OneHotEncoder(handle_unknown='ignore')"
   ],
   "metadata": {
    "collapsed": false,
    "pycharm": {
     "name": "#%%\n"
    }
   }
  },
  {
   "cell_type": "code",
   "execution_count": 45,
   "outputs": [],
   "source": [
    "train_Y  = np.array(train_Y)"
   ],
   "metadata": {
    "collapsed": false,
    "pycharm": {
     "name": "#%%\n"
    }
   }
  },
  {
   "cell_type": "code",
   "execution_count": 46,
   "outputs": [],
   "source": [
    "y_labels = enc.fit_transform(train_Y.reshape(-1,1))"
   ],
   "metadata": {
    "collapsed": false,
    "pycharm": {
     "name": "#%%\n"
    }
   }
  },
  {
   "cell_type": "code",
   "execution_count": 47,
   "outputs": [
    {
     "data": {
      "text/plain": "[array(['identity_attack', 'insult', 'obscene', 'sexual_explicit',\n        'threat', 'toxicity'], dtype=object)]"
     },
     "execution_count": 47,
     "metadata": {},
     "output_type": "execute_result"
    }
   ],
   "source": [
    "enc.categories_"
   ],
   "metadata": {
    "collapsed": false,
    "pycharm": {
     "name": "#%%\n"
    }
   }
  },
  {
   "cell_type": "code",
   "execution_count": 48,
   "outputs": [],
   "source": [
    "y_labels = y_labels.toarray()"
   ],
   "metadata": {
    "collapsed": false,
    "pycharm": {
     "name": "#%%\n"
    }
   }
  },
  {
   "cell_type": "code",
   "execution_count": 49,
   "outputs": [
    {
     "data": {
      "text/plain": "(50000, 6)"
     },
     "execution_count": 49,
     "metadata": {},
     "output_type": "execute_result"
    }
   ],
   "source": [
    "y_labels.shape"
   ],
   "metadata": {
    "collapsed": false,
    "pycharm": {
     "name": "#%%\n"
    }
   }
  },
  {
   "cell_type": "code",
   "execution_count": 50,
   "outputs": [
    {
     "data": {
      "text/plain": "array([[0., 0., 0., 0., 0., 1.],\n       [0., 0., 0., 0., 0., 1.],\n       [0., 0., 0., 0., 0., 1.],\n       [0., 0., 0., 0., 0., 1.],\n       [0., 0., 0., 0., 0., 1.],\n       [0., 0., 0., 0., 0., 1.],\n       [0., 0., 0., 0., 0., 1.],\n       [1., 0., 0., 0., 0., 0.],\n       [0., 0., 0., 0., 0., 1.],\n       [0., 0., 0., 0., 0., 1.]])"
     },
     "execution_count": 50,
     "metadata": {},
     "output_type": "execute_result"
    }
   ],
   "source": [
    "# y_labels sample\n",
    "y_labels[0:10,:]"
   ],
   "metadata": {
    "collapsed": false,
    "pycharm": {
     "name": "#%%\n"
    }
   }
  },
  {
   "cell_type": "markdown",
   "source": [
    "# Configuring test data as well"
   ],
   "metadata": {
    "collapsed": false
   }
  },
  {
   "cell_type": "code",
   "execution_count": 51,
   "outputs": [
    {
     "data": {
      "text/plain": "                                           comment_text split  toxicity  \\\n7689  Lela, you admit no records exist to support yo...  test  0.111111   \n7729  He and his people have been musing specificall...  test  0.750000   \n7765  Your comment is so racist!  How the heck did i...  test  0.565789   \n7777  SIGH, another whiny generation ME who cant aff...  test  0.285714   \n\n       obscene  sexual_explicit  identity_attack    insult  threat  \n7689  0.000000           0.0000         0.000000  0.000000  0.0000  \n7729  0.625000           0.0375         0.162500  0.575000  0.0625  \n7765  0.223684           0.0000         0.026316  0.421053  0.0000  \n7777  0.000000           0.0000         0.000000  0.285714  0.0000  ",
      "text/html": "<div>\n<style scoped>\n    .dataframe tbody tr th:only-of-type {\n        vertical-align: middle;\n    }\n\n    .dataframe tbody tr th {\n        vertical-align: top;\n    }\n\n    .dataframe thead th {\n        text-align: right;\n    }\n</style>\n<table border=\"1\" class=\"dataframe\">\n  <thead>\n    <tr style=\"text-align: right;\">\n      <th></th>\n      <th>comment_text</th>\n      <th>split</th>\n      <th>toxicity</th>\n      <th>obscene</th>\n      <th>sexual_explicit</th>\n      <th>identity_attack</th>\n      <th>insult</th>\n      <th>threat</th>\n    </tr>\n  </thead>\n  <tbody>\n    <tr>\n      <th>7689</th>\n      <td>Lela, you admit no records exist to support yo...</td>\n      <td>test</td>\n      <td>0.111111</td>\n      <td>0.000000</td>\n      <td>0.0000</td>\n      <td>0.000000</td>\n      <td>0.000000</td>\n      <td>0.0000</td>\n    </tr>\n    <tr>\n      <th>7729</th>\n      <td>He and his people have been musing specificall...</td>\n      <td>test</td>\n      <td>0.750000</td>\n      <td>0.625000</td>\n      <td>0.0375</td>\n      <td>0.162500</td>\n      <td>0.575000</td>\n      <td>0.0625</td>\n    </tr>\n    <tr>\n      <th>7765</th>\n      <td>Your comment is so racist!  How the heck did i...</td>\n      <td>test</td>\n      <td>0.565789</td>\n      <td>0.223684</td>\n      <td>0.0000</td>\n      <td>0.026316</td>\n      <td>0.421053</td>\n      <td>0.0000</td>\n    </tr>\n    <tr>\n      <th>7777</th>\n      <td>SIGH, another whiny generation ME who cant aff...</td>\n      <td>test</td>\n      <td>0.285714</td>\n      <td>0.000000</td>\n      <td>0.0000</td>\n      <td>0.000000</td>\n      <td>0.285714</td>\n      <td>0.0000</td>\n    </tr>\n  </tbody>\n</table>\n</div>"
     },
     "execution_count": 51,
     "metadata": {},
     "output_type": "execute_result"
    }
   ],
   "source": [
    "data_test.head(4)"
   ],
   "metadata": {
    "collapsed": false,
    "pycharm": {
     "name": "#%%\n"
    }
   }
  },
  {
   "cell_type": "code",
   "source": [
    "test_cleaned_comments = []"
   ],
   "metadata": {
    "collapsed": false,
    "pycharm": {
     "name": "#%%\n"
    }
   },
   "execution_count": 52,
   "outputs": []
  },
  {
   "cell_type": "code",
   "execution_count": 53,
   "outputs": [
    {
     "data": {
      "text/plain": "24629"
     },
     "execution_count": 53,
     "metadata": {},
     "output_type": "execute_result"
    }
   ],
   "source": [
    "test_num_comments = data_test[\"comment_text\"].size\n",
    "test_num_comments"
   ],
   "metadata": {
    "collapsed": false,
    "pycharm": {
     "name": "#%%\n"
    }
   }
  },
  {
   "cell_type": "code",
   "execution_count": 54,
   "outputs": [
    {
     "data": {
      "text/plain": "(24629, 8)"
     },
     "execution_count": 54,
     "metadata": {},
     "output_type": "execute_result"
    }
   ],
   "source": [
    "data_test.shape"
   ],
   "metadata": {
    "collapsed": false,
    "pycharm": {
     "name": "#%%\n"
    }
   }
  },
  {
   "cell_type": "code",
   "execution_count": 55,
   "outputs": [
    {
     "data": {
      "text/plain": "  0%|          | 0/24629 [00:00<?, ?it/s]",
      "application/vnd.jupyter.widget-view+json": {
       "version_major": 2,
       "version_minor": 0,
       "model_id": "1653721d85ea43bdb690feebba9231b0"
      }
     },
     "metadata": {},
     "output_type": "display_data"
    }
   ],
   "source": [
    "for i in tqdm(range(0,test_num_comments)):\n",
    "    test_cleaned_comments.append(comments_to_words(data_test.iloc[i,0]))"
   ],
   "metadata": {
    "collapsed": false,
    "pycharm": {
     "name": "#%%\n"
    }
   }
  },
  {
   "cell_type": "code",
   "execution_count": 56,
   "outputs": [],
   "source": [
    "vectorizer_test = TfidfVectorizer(\n",
    "    analyzer=\"word\",\n",
    "    tokenizer=None,\n",
    "    stop_words=None,\n",
    "    max_features=10000,\n",
    "    preprocessor=None\n",
    ")"
   ],
   "metadata": {
    "collapsed": false,
    "pycharm": {
     "name": "#%%\n"
    }
   }
  },
  {
   "cell_type": "code",
   "execution_count": 57,
   "outputs": [],
   "source": [
    "test_data_features_normalized = vectorizer_test.fit_transform(test_cleaned_comments)"
   ],
   "metadata": {
    "collapsed": false,
    "pycharm": {
     "name": "#%%\n"
    }
   }
  },
  {
   "cell_type": "code",
   "execution_count": 58,
   "outputs": [
    {
     "name": "stdout",
     "output_type": "stream",
     "text": [
      "size of vocabulary: 10000\n"
     ]
    }
   ],
   "source": [
    "test_vocab = vectorizer_test.get_feature_names_out()\n",
    "print(\"size of vocabulary: %d\" %(len(test_vocab)))"
   ],
   "metadata": {
    "collapsed": false,
    "pycharm": {
     "name": "#%%\n"
    }
   }
  },
  {
   "cell_type": "code",
   "execution_count": 59,
   "outputs": [],
   "source": [
    "test_data_features_normalized = test_data_features_normalized.toarray()"
   ],
   "metadata": {
    "collapsed": false,
    "pycharm": {
     "name": "#%%\n"
    }
   }
  },
  {
   "cell_type": "code",
   "execution_count": 60,
   "outputs": [
    {
     "data": {
      "text/plain": "(24629, 10000)"
     },
     "execution_count": 60,
     "metadata": {},
     "output_type": "execute_result"
    }
   ],
   "source": [
    "test_data_features_normalized.shape"
   ],
   "metadata": {
    "collapsed": false,
    "pycharm": {
     "name": "#%%\n"
    }
   }
  },
  {
   "cell_type": "code",
   "execution_count": 61,
   "outputs": [
    {
     "name": "stdout",
     "output_type": "stream",
     "text": [
      "aa -> 3\n",
      "aaron -> 2\n",
      "ab -> 2\n",
      "abandon -> 3\n",
      "abandoned -> 6\n",
      "abandoning -> 1\n",
      "abc -> 2\n",
      "abhorrent -> 3\n",
      "abide -> 4\n",
      "abiding -> 6\n",
      "abilities -> 3\n",
      "ability -> 21\n",
      "abject -> 1\n",
      "able -> 47\n",
      "aboard -> 1\n",
      "abolish -> 2\n",
      "abolished -> 2\n",
      "aboriginal -> 4\n",
      "aboriginals -> 1\n",
      "abort -> 4\n",
      "aborted -> 3\n",
      "abortion -> 91\n",
      "abortionists -> 2\n",
      "abortions -> 27\n",
      "abraham -> 5\n",
      "abrahamic -> 1\n",
      "abroad -> 1\n",
      "absence -> 3\n",
      "absent -> 3\n",
      "absolute -> 13\n",
      "absolutely -> 39\n",
      "absolution -> 2\n",
      "absolve -> 2\n",
      "absolved -> 1\n",
      "absorb -> 1\n",
      "absorbed -> 1\n",
      "abstract -> 2\n",
      "absurd -> 8\n",
      "abundance -> 2\n",
      "abundantly -> 2\n",
      "abuse -> 40\n",
      "abused -> 14\n",
      "abuser -> 3\n",
      "abusers -> 6\n",
      "abuses -> 3\n",
      "abusing -> 6\n",
      "abusive -> 8\n",
      "abysmal -> 1\n",
      "aca -> 10\n",
      "academia -> 1\n",
      "academic -> 5\n",
      "academics -> 4\n",
      "academy -> 1\n",
      "accept -> 35\n",
      "acceptable -> 13\n",
      "acceptance -> 6\n",
      "accepted -> 14\n",
      "accepting -> 10\n",
      "accepts -> 1\n",
      "access -> 25\n",
      "accessible -> 2\n",
      "accident -> 8\n",
      "accidental -> 3\n",
      "accidentally -> 2\n",
      "accidents -> 5\n",
      "accommodate -> 3\n",
      "accommodated -> 2\n",
      "accommodating -> 2\n",
      "accommodation -> 6\n",
      "accommodations -> 2\n",
      "accompanied -> 1\n",
      "accompanying -> 1\n",
      "accomplish -> 6\n",
      "accomplished -> 6\n",
      "accomplishment -> 1\n",
      "accomplishments -> 3\n",
      "accord -> 4\n",
      "accordance -> 2\n",
      "according -> 35\n",
      "accordingly -> 2\n",
      "account -> 20\n",
      "accountability -> 7\n",
      "accountable -> 9\n",
      "accounting -> 2\n",
      "accounts -> 8\n",
      "accredited -> 2\n",
      "accuracy -> 1\n",
      "accurate -> 15\n",
      "accurately -> 5\n",
      "accusation -> 9\n",
      "accusations -> 10\n",
      "accuse -> 9\n",
      "accused -> 14\n",
      "accusers -> 2\n",
      "accusing -> 5\n",
      "aces -> 1\n",
      "achieve -> 7\n",
      "achieved -> 3\n",
      "achievement -> 2\n",
      "achievements -> 2\n",
      "achieving -> 2\n"
     ]
    }
   ],
   "source": [
    "# Generating frequencies\n",
    "dist_norm = np.sum(test_data_features_normalized,axis=0)\n",
    "\n",
    "# sample frequencies\n",
    "total_count_norm = 0\n",
    "for tag,count in zip(test_vocab,dist_norm):\n",
    "    if total_count_norm > 100:\n",
    "        break\n",
    "    print(\"%s -> %d\" % (tag,count))\n",
    "    total_count_norm += 1"
   ],
   "metadata": {
    "collapsed": false,
    "pycharm": {
     "name": "#%%\n"
    }
   }
  },
  {
   "cell_type": "code",
   "execution_count": 62,
   "outputs": [],
   "source": [
    "test_data_labels = data_test.drop([\"comment_text\",\"split\"], axis=1)"
   ],
   "metadata": {
    "collapsed": false,
    "pycharm": {
     "name": "#%%\n"
    }
   }
  },
  {
   "cell_type": "code",
   "execution_count": 63,
   "outputs": [
    {
     "data": {
      "text/plain": "Index(['toxicity', 'obscene', 'sexual_explicit', 'identity_attack', 'insult',\n       'threat'],\n      dtype='object')"
     },
     "execution_count": 63,
     "metadata": {},
     "output_type": "execute_result"
    }
   ],
   "source": [
    "test_data_labels.columns"
   ],
   "metadata": {
    "collapsed": false,
    "pycharm": {
     "name": "#%%\n"
    }
   }
  },
  {
   "cell_type": "code",
   "execution_count": 64,
   "outputs": [
    {
     "data": {
      "text/plain": "(24629, 10000)"
     },
     "execution_count": 64,
     "metadata": {},
     "output_type": "execute_result"
    }
   ],
   "source": [
    "test_data_features_normalized.shape"
   ],
   "metadata": {
    "collapsed": false,
    "pycharm": {
     "name": "#%%\n"
    }
   }
  },
  {
   "cell_type": "code",
   "execution_count": 65,
   "outputs": [
    {
     "data": {
      "text/plain": "(24629, 6)"
     },
     "execution_count": 65,
     "metadata": {},
     "output_type": "execute_result"
    }
   ],
   "source": [
    "test_data_labels.shape"
   ],
   "metadata": {
    "collapsed": false,
    "pycharm": {
     "name": "#%%\n"
    }
   }
  },
  {
   "cell_type": "code",
   "execution_count": 66,
   "outputs": [
    {
     "data": {
      "text/plain": "7689    toxicity\n7729    toxicity\n7765    toxicity\n7777    toxicity\n7796    toxicity\n7840    toxicity\ndtype: object"
     },
     "execution_count": 66,
     "metadata": {},
     "output_type": "execute_result"
    }
   ],
   "source": [
    "max_value_column_name = test_data_labels.idxmax(axis=1)\n",
    "test_Y = max_value_column_name\n",
    "test_Y.head(6)"
   ],
   "metadata": {
    "collapsed": false,
    "pycharm": {
     "name": "#%%\n"
    }
   }
  },
  {
   "cell_type": "code",
   "execution_count": 67,
   "outputs": [],
   "source": [
    "test_Y = np.array(test_Y)\n",
    "y_labels_test = enc.fit_transform(test_Y.reshape(-1,1))"
   ],
   "metadata": {
    "collapsed": false,
    "pycharm": {
     "name": "#%%\n"
    }
   }
  },
  {
   "cell_type": "code",
   "execution_count": 68,
   "outputs": [
    {
     "data": {
      "text/plain": "[array(['identity_attack', 'insult', 'obscene', 'sexual_explicit',\n        'threat', 'toxicity'], dtype=object)]"
     },
     "execution_count": 68,
     "metadata": {},
     "output_type": "execute_result"
    }
   ],
   "source": [
    "enc.categories_"
   ],
   "metadata": {
    "collapsed": false,
    "pycharm": {
     "name": "#%%\n"
    }
   }
  },
  {
   "cell_type": "code",
   "execution_count": 69,
   "outputs": [],
   "source": [
    "y_labels_test = y_labels_test.toarray()"
   ],
   "metadata": {
    "collapsed": false,
    "pycharm": {
     "name": "#%%\n"
    }
   }
  },
  {
   "cell_type": "code",
   "execution_count": 70,
   "outputs": [
    {
     "data": {
      "text/plain": "array([[0., 0., 0., 0., 0., 1.],\n       [0., 0., 0., 0., 0., 1.],\n       [0., 0., 0., 0., 0., 1.],\n       [0., 0., 0., 0., 0., 1.],\n       [0., 0., 0., 0., 0., 1.],\n       [0., 0., 0., 0., 0., 1.],\n       [0., 0., 0., 0., 0., 1.],\n       [0., 0., 0., 0., 0., 1.],\n       [0., 1., 0., 0., 0., 0.],\n       [0., 0., 0., 0., 0., 1.]])"
     },
     "execution_count": 70,
     "metadata": {},
     "output_type": "execute_result"
    }
   ],
   "source": [
    "y_labels_test[0:10]"
   ],
   "metadata": {
    "collapsed": false,
    "pycharm": {
     "name": "#%%\n"
    }
   }
  },
  {
   "cell_type": "markdown",
   "source": [
    "# Now Various Model Testing"
   ],
   "metadata": {
    "collapsed": false,
    "pycharm": {
     "name": "#%% md\n"
    }
   }
  },
  {
   "cell_type": "code",
   "execution_count": 71,
   "outputs": [
    {
     "name": "stdout",
     "output_type": "stream",
     "text": [
      "Training Data Size\n",
      "Feature Data Shape: % (50000, 10000)\n",
      "Label Data Shape: % (50000, 6)\n"
     ]
    }
   ],
   "source": [
    "print(\"Training Data Size\")\n",
    "print(\"Feature Data Shape: %\", train_data_features_normalized.shape)\n",
    "print(\"Label Data Shape: %\", y_labels.shape)"
   ],
   "metadata": {
    "collapsed": false,
    "pycharm": {
     "name": "#%%\n"
    }
   }
  },
  {
   "cell_type": "code",
   "execution_count": 72,
   "outputs": [],
   "source": [
    "# feature scaling\n",
    "from sklearn.preprocessing import StandardScaler"
   ],
   "metadata": {
    "collapsed": false,
    "pycharm": {
     "name": "#%%\n"
    }
   }
  },
  {
   "cell_type": "code",
   "execution_count": 73,
   "outputs": [],
   "source": [
    "scaler = StandardScaler()"
   ],
   "metadata": {
    "collapsed": false,
    "pycharm": {
     "name": "#%%\n"
    }
   }
  },
  {
   "cell_type": "code",
   "execution_count": 74,
   "outputs": [],
   "source": [
    "x_train = train_data_features_normalized"
   ],
   "metadata": {
    "collapsed": false,
    "pycharm": {
     "name": "#%%\n"
    }
   }
  },
  {
   "cell_type": "markdown",
   "source": [
    "#### In this section, we will try out different different model testings for our dataset, we will try various machine learning algorithms to find which model give us better results"
   ],
   "metadata": {
    "collapsed": false,
    "pycharm": {
     "name": "#%% md\n"
    }
   }
  },
  {
   "cell_type": "markdown",
   "source": [
    "# 1. Neural Network\n"
   ],
   "metadata": {
    "collapsed": false
   }
  },
  {
   "cell_type": "markdown",
   "source": [
    "we will use MLP (Multi Layer Perceptron) that comes with the sklearn package of python"
   ],
   "metadata": {
    "collapsed": false
   }
  },
  {
   "cell_type": "code",
   "execution_count": 75,
   "outputs": [
    {
     "data": {
      "text/plain": "(50000, 10000)"
     },
     "execution_count": 75,
     "metadata": {},
     "output_type": "execute_result"
    }
   ],
   "source": [
    "x_train.shape"
   ],
   "metadata": {
    "collapsed": false,
    "pycharm": {
     "name": "#%%\n"
    }
   }
  },
  {
   "cell_type": "code",
   "execution_count": 76,
   "outputs": [
    {
     "data": {
      "text/plain": "(50000, 6)"
     },
     "execution_count": 76,
     "metadata": {},
     "output_type": "execute_result"
    }
   ],
   "source": [
    "y_labels.shape"
   ],
   "metadata": {
    "collapsed": false,
    "pycharm": {
     "name": "#%%\n"
    }
   }
  },
  {
   "cell_type": "code",
   "execution_count": 77,
   "outputs": [],
   "source": [
    "from sklearn.neural_network import MLPClassifier"
   ],
   "metadata": {
    "collapsed": false,
    "pycharm": {
     "name": "#%%\n"
    }
   }
  },
  {
   "cell_type": "code",
   "execution_count": 78,
   "outputs": [
    {
     "name": "stdout",
     "output_type": "stream",
     "text": [
      "Iteration 1, loss = 1.13712332\n",
      "Iteration 2, loss = 0.46424766\n",
      "Iteration 3, loss = 0.41622839\n",
      "Iteration 4, loss = 0.37629584\n",
      "Iteration 5, loss = 0.34109787\n",
      "Iteration 6, loss = 0.30825917\n",
      "Iteration 7, loss = 0.27708704\n",
      "Iteration 8, loss = 0.24808996\n",
      "Iteration 9, loss = 0.22227596\n",
      "Iteration 10, loss = 0.19920557\n",
      "Iteration 11, loss = 0.17873688\n",
      "Iteration 12, loss = 0.16022842\n",
      "Iteration 13, loss = 0.14346151\n",
      "Iteration 14, loss = 0.12844617\n",
      "Iteration 15, loss = 0.11484297\n",
      "Iteration 16, loss = 0.10251352\n",
      "Iteration 17, loss = 0.09143667\n",
      "Iteration 18, loss = 0.08120697\n",
      "Iteration 19, loss = 0.07213913\n",
      "Iteration 20, loss = 0.06384926\n",
      "Iteration 21, loss = 0.05651611\n",
      "Iteration 22, loss = 0.04988256\n",
      "Iteration 23, loss = 0.04408035\n",
      "Iteration 24, loss = 0.03906271\n",
      "Iteration 25, loss = 0.03469893\n",
      "Iteration 26, loss = 0.03108355\n",
      "Iteration 27, loss = 0.02786208\n",
      "Iteration 28, loss = 0.02527783\n",
      "Iteration 29, loss = 0.02283735\n",
      "Iteration 30, loss = 0.02084442\n",
      "Iteration 31, loss = 0.01912548\n",
      "Iteration 32, loss = 0.01781908\n",
      "Iteration 33, loss = 0.01663886\n",
      "Iteration 34, loss = 0.01548130\n",
      "Iteration 35, loss = 0.01469627\n",
      "Iteration 36, loss = 0.01379376\n",
      "Iteration 37, loss = 0.01332135\n",
      "Iteration 38, loss = 0.01257930\n",
      "Iteration 39, loss = 0.01208624\n",
      "Iteration 40, loss = 0.01180145\n",
      "Iteration 41, loss = 0.01118065\n",
      "Iteration 42, loss = 0.01087177\n",
      "Iteration 43, loss = 0.01064690\n",
      "Iteration 44, loss = 0.01051409\n",
      "Iteration 45, loss = 0.01010966\n",
      "Iteration 46, loss = 0.00996210\n",
      "Iteration 47, loss = 0.00977658\n",
      "Iteration 48, loss = 0.00931715\n",
      "Iteration 49, loss = 0.00929098\n",
      "Iteration 50, loss = 0.00906926\n",
      "Iteration 51, loss = 0.00887400\n",
      "Iteration 52, loss = 0.00879399\n",
      "Iteration 53, loss = 0.00863585\n",
      "Iteration 54, loss = 0.00842191\n",
      "Iteration 55, loss = 0.00823682\n",
      "Iteration 56, loss = 0.00808686\n",
      "Iteration 57, loss = 0.00787013\n",
      "Iteration 58, loss = 0.00823675\n",
      "Iteration 59, loss = 0.00795136\n",
      "Iteration 60, loss = 0.00786639\n",
      "Iteration 61, loss = 0.00759639\n",
      "Iteration 62, loss = 0.00771919\n",
      "Iteration 63, loss = 0.00758085\n",
      "Iteration 64, loss = 0.00777230\n",
      "Iteration 65, loss = 0.00753064\n",
      "Iteration 66, loss = 0.00735774\n",
      "Iteration 67, loss = 0.00703743\n",
      "Iteration 68, loss = 0.00694946\n",
      "Iteration 69, loss = 0.00719070\n",
      "Iteration 70, loss = 0.00702985\n",
      "Iteration 71, loss = 0.00705464\n",
      "Iteration 72, loss = 0.00658282\n",
      "Iteration 73, loss = 0.00694076\n",
      "Iteration 74, loss = 0.00693328\n",
      "Iteration 75, loss = 0.00649685\n",
      "Iteration 76, loss = 0.00663400\n",
      "Iteration 77, loss = 0.00660477\n",
      "Iteration 78, loss = 0.00649462\n",
      "Iteration 79, loss = 0.00683172\n",
      "Iteration 80, loss = 0.00643600\n",
      "Iteration 81, loss = 0.00651588\n",
      "Iteration 82, loss = 0.00635486\n",
      "Iteration 83, loss = 0.00612002\n",
      "Iteration 84, loss = 0.00635891\n",
      "Iteration 85, loss = 0.00610216\n",
      "Iteration 86, loss = 0.00622031\n",
      "Iteration 87, loss = 0.00625135\n",
      "Iteration 88, loss = 0.00622596\n",
      "Iteration 89, loss = 0.00626985\n",
      "Iteration 90, loss = 0.00645235\n",
      "Iteration 91, loss = 0.00628269\n",
      "Iteration 92, loss = 0.00600093\n",
      "Iteration 93, loss = 0.00607451\n",
      "Iteration 94, loss = 0.00595299\n",
      "Iteration 95, loss = 0.00590610\n",
      "Iteration 96, loss = 0.00592336\n",
      "Iteration 97, loss = 0.00604438\n",
      "Iteration 98, loss = 0.00601680\n",
      "Iteration 99, loss = 0.00579325\n",
      "Iteration 100, loss = 0.00593581\n",
      "Iteration 101, loss = 0.00567175\n",
      "Iteration 102, loss = 0.00586974\n",
      "Iteration 103, loss = 0.00595938\n",
      "Iteration 104, loss = 0.00564481\n",
      "Iteration 105, loss = 0.00563985\n",
      "Iteration 106, loss = 0.00609657\n",
      "Iteration 107, loss = 0.00553900\n",
      "Iteration 108, loss = 0.00596810\n",
      "Iteration 109, loss = 0.00580986\n",
      "Iteration 110, loss = 0.00567786\n",
      "Iteration 111, loss = 0.00561750\n",
      "Iteration 112, loss = 0.00593396\n",
      "Iteration 113, loss = 0.00557409\n",
      "Iteration 114, loss = 0.00591024\n",
      "Iteration 115, loss = 0.00558733\n",
      "Iteration 116, loss = 0.00553871\n",
      "Iteration 117, loss = 0.00538488\n",
      "Iteration 118, loss = 0.00583095\n",
      "Iteration 119, loss = 0.00578396\n",
      "Iteration 120, loss = 0.00572377\n"
     ]
    },
    {
     "name": "stderr",
     "output_type": "stream",
     "text": [
      "/opt/anaconda3/envs/tf/lib/python3.7/site-packages/sklearn/neural_network/_multilayer_perceptron.py:696: ConvergenceWarning: Stochastic Optimizer: Maximum iterations (120) reached and the optimization hasn't converged yet.\n",
      "  ConvergenceWarning,\n"
     ]
    },
    {
     "data": {
      "text/plain": "MLPClassifier(max_iter=120, random_state=0, verbose=True)"
     },
     "execution_count": 78,
     "metadata": {},
     "output_type": "execute_result"
    }
   ],
   "source": [
    "# Setting up a primitive (non-validated) model\n",
    "mlpc = MLPClassifier(random_state = 0,verbose=True,max_iter=120)# ANN model object created\n",
    "\n",
    "mlpc.fit(x_train, y_labels) # ANN model object fit"
   ],
   "metadata": {
    "collapsed": false,
    "pycharm": {
     "name": "#%%\n"
    }
   }
  },
  {
   "cell_type": "markdown",
   "source": [
    "# number of epochs should be about 120"
   ],
   "metadata": {
    "collapsed": false
   }
  },
  {
   "cell_type": "code",
   "execution_count": 79,
   "outputs": [
    {
     "data": {
      "text/plain": "(24629, 10000)"
     },
     "execution_count": 79,
     "metadata": {},
     "output_type": "execute_result"
    }
   ],
   "source": [
    "x_test = test_data_features_normalized\n",
    "x_test.shape"
   ],
   "metadata": {
    "collapsed": false,
    "pycharm": {
     "name": "#%%\n"
    }
   }
  },
  {
   "cell_type": "code",
   "execution_count": 81,
   "outputs": [],
   "source": [
    "# Forecasting on the Unvalidated Model\n",
    "y_pred = mlpc.predict(x_test) # model prediction process over test set"
   ],
   "metadata": {
    "collapsed": false,
    "pycharm": {
     "name": "#%%\n"
    }
   }
  },
  {
   "cell_type": "code",
   "execution_count": 82,
   "outputs": [
    {
     "name": "stdout",
     "output_type": "stream",
     "text": [
      "Accuracy: 0.911567664135775\n",
      "f1_weighted: 0.9159882490375321\n"
     ]
    }
   ],
   "source": [
    "import sklearn.metrics as metrics\n",
    "\n",
    "# Accuracy\n",
    "\n",
    "print(\"Accuracy:\",metrics.accuracy_score(y_labels_test,y_pred))\n",
    "\n",
    "# f1 score\n",
    "\n",
    "print(\"f1_weighted:\",metrics.f1_score(y_labels_test, y_pred,average='weighted'))"
   ],
   "metadata": {
    "collapsed": false,
    "pycharm": {
     "name": "#%%\n"
    }
   }
  },
  {
   "cell_type": "code",
   "execution_count": 89,
   "outputs": [],
   "source": [
    "from sklearn.metrics import confusion_matrix, ConfusionMatrixDisplay\n",
    "\n",
    "cm = confusion_matrix(\n",
    "    y_labels_test.argmax(axis=1), y_pred.argmax(axis=1))"
   ],
   "metadata": {
    "collapsed": false,
    "pycharm": {
     "name": "#%%\n"
    }
   }
  },
  {
   "cell_type": "code",
   "execution_count": 91,
   "outputs": [
    {
     "data": {
      "text/plain": "Index(['comment_text', 'split', 'toxicity', 'obscene', 'sexual_explicit',\n       'identity_attack', 'insult', 'threat'],\n      dtype='object')"
     },
     "execution_count": 91,
     "metadata": {},
     "output_type": "execute_result"
    }
   ],
   "source": [
    "classInputs = data_test.columns\n",
    "classInputs"
   ],
   "metadata": {
    "collapsed": false,
    "pycharm": {
     "name": "#%%\n"
    }
   }
  },
  {
   "cell_type": "code",
   "execution_count": 92,
   "outputs": [
    {
     "data": {
      "text/plain": "Index(['toxicity', 'obscene', 'sexual_explicit', 'identity_attack', 'insult',\n       'threat'],\n      dtype='object')"
     },
     "execution_count": 92,
     "metadata": {},
     "output_type": "execute_result"
    }
   ],
   "source": [
    "classInputs = classInputs[2:]\n",
    "classInputs"
   ],
   "metadata": {
    "collapsed": false,
    "pycharm": {
     "name": "#%%\n"
    }
   }
  },
  {
   "cell_type": "code",
   "execution_count": 98,
   "outputs": [
    {
     "data": {
      "text/plain": "<Figure size 960x800 with 2 Axes>",
      "image/png": "[encoded data removed]"
     },
     "metadata": {
      "needs_background": "light"
     },
     "output_type": "display_data"
    }
   ],
   "source": [
    "import seaborn as sns\n",
    "import matplotlib.pyplot as plt\n",
    "\n",
    "plt.figure(figsize=(12,10), dpi= 80)\n",
    "sns.heatmap(cm, xticklabels=classInputs, yticklabels=classInputs, cmap='RdYlGn', center=0, annot=True)\n",
    "\n",
    "# Decorations\n",
    "plt.title('Confusion Matrix for Test Data', fontsize=22)\n",
    "plt.xticks(fontsize=12)\n",
    "plt.yticks(fontsize=12)\n",
    "plt.show()"
   ],
   "metadata": {
    "collapsed": false,
    "pycharm": {
     "name": "#%%\n"
    }
   }
  },
  {
   "cell_type": "markdown",
   "source": [
    "as we can see, accuracy can be achieved even more as per the confusion matrix."
   ],
   "metadata": {
    "collapsed": false,
    "pycharm": {
     "name": "#%% md\n"
    }
   }
  }
 ],
 "metadata": {
  "kernelspec": {
   "display_name": "Python 3",
   "language": "python",
   "name": "python3"
  },
  "language_info": {
   "codemirror_mode": {
    "name": "ipython",
    "version": 2
   },
   "file_extension": ".py",
   "mimetype": "text/x-python",
   "name": "python",
   "nbconvert_exporter": "python",
   "pygments_lexer": "ipython2",
   "version": "2.7.6"
  }
 },
 "nbformat": 4,
 "nbformat_minor": 0
}